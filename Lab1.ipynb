{
 "cells": [
  {
   "cell_type": "code",
   "execution_count": 17,
   "metadata": {},
   "outputs": [
    {
     "name": "stdout",
     "output_type": "stream",
     "text": [
      "Enter number a: \n",
      "Enter number b: \n",
      "true\n",
      "35.4\n"
     ]
    }
   ],
   "source": [
    "Res = 0\n",
    "\n",
    "print(\"Enter number a: \")\n",
    "NumberA = int(input())\n",
    "print(\"Enter number b: \")\n",
    "NumberB = 12.4\n",
    "\n",
    "ErrorType = \"true\"\n",
    "print(ErrorType)\n",
    "\n",
    "Res = NumberA + NumberB\n",
    "print(Res)"
   ]
  }
 ],
 "metadata": {
  "kernelspec": {
   "display_name": "Python 3",
   "language": "python",
   "name": "python3"
  },
  "language_info": {
   "codemirror_mode": {
    "name": "ipython",
    "version": 3
   },
   "file_extension": ".py",
   "mimetype": "text/x-python",
   "name": "python",
   "nbconvert_exporter": "python",
   "pygments_lexer": "ipython3",
   "version": "3.11.2"
  },
  "orig_nbformat": 4
 },
 "nbformat": 4,
 "nbformat_minor": 2
}
